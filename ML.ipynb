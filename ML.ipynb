{
 "cells": [
  {
   "cell_type": "markdown",
   "id": "2003b363",
   "metadata": {},
   "source": [
    "<center><h1>Project X</h1><h2>ML Mobile Megaline Analysis</h2></center>"
   ]
  },
  {
   "cell_type": "markdown",
   "id": "644acb3a",
   "metadata": {},
   "source": [
    "<b><u>Description:</u></b>\n",
    "\n",
    "The telecom company that we work in asked us this time to examine the registered customers in the system that didn't yet made the transition to our latest \"smart\" and \"ultra\" plans and are still using our legacy one.\n",
    "\n",
    "Since we already have a diagnosis we made in the past for those customers who have already switched to the new programs, all we have left to do is a general diagnosis of the existing data and move directly from it to building the forecasting model that will give us the answer with the highest accuracy of 0.75.\n",
    "\n",
    "<b><u>Our plan:</u></b>\n",
    "\n",
    "- Dev' a model that will examine the behavior of our customers with legacy plan\n",
    "\n",
    "- Build an ML model that will tell us what is the best plan to our legacy plan customers according to there behavior"
   ]
  },
  {
   "cell_type": "markdown",
   "id": "8240e19f",
   "metadata": {},
   "source": [
    "<hr><b><u>Index Menu:</u></b>\n",
    "<div class=\"alert alert-block alert-info\" style=\"margin-top: 20px\">\n",
    "    <b style=\"font-size: 17px;\" id=\"index\">index:</b> \n",
    "<br><br>  \n",
    "<a href=\"#Step I\">Step I - Open the data file and read the general information</a>\n",
    "<br><br>     \n",
    "<a href=\"#Step II\">Step II - Split our source data</a>\n",
    "<br> <br>    \n",
    "<a href=\"#Step III\">Step III - Investigate different models quality</a>\n",
    "<br><br> \n",
    "<a href=\"#Step IV\">Step IV - Check model quality</a>\n",
    "<br><br> \n",
    "<a href=\"#Step V\">Step V - Sanity check the model</a>\n",
    "<br><br> \n",
    "<a href=\"#general_conclusion\">General conclusion</a>   \n",
    "</div>"
   ]
  },
  {
   "cell_type": "markdown",
   "id": "36be32d5",
   "metadata": {},
   "source": [
    "<hr><div id=\"Step I\"><h2>Step I - Open data and general info</h2><br><i>Loading all the libraries: pandas,numpy,matplotlib,etc</i></div>"
   ]
  },
  {
   "cell_type": "markdown",
   "id": "d9560cd7",
   "metadata": {},
   "source": [
    "<a href=\"#index\"><button style=\" background-color: #04AA6D; border: none; color: white; padding: 10px; text-align: center; text-decoration: none; display: inline-block; font-size: 12px; margin: 3px 2px; border-radius: 12px; font-weight: bold;\"> Return to index menu</button></a>"
   ]
  },
  {
   "cell_type": "code",
   "execution_count": 1,
   "id": "e8c43faa",
   "metadata": {},
   "outputs": [
    {
     "name": "stdout",
     "output_type": "stream",
     "text": [
      "Project libraries has been successfully been imported!\n"
     ]
    }
   ],
   "source": [
    "# import pandas and numpy for data preprocessing and manipulation\n",
    "import pandas as pd \n",
    "import numpy as np \n",
    "\n",
    "# matplotlib for visualization\n",
    "import matplotlib.pyplot as plt\n",
    "%matplotlib inline\n",
    "\n",
    "# import train_test_split to split data\n",
    "from sklearn.model_selection import train_test_split\n",
    "\n",
    "# import machine learning module from the sklearn library\n",
    "from sklearn.tree import DecisionTreeClassifier \n",
    "from sklearn.linear_model import LogisticRegression \n",
    "from sklearn.ensemble import RandomForestClassifier \n",
    "from sklearn.ensemble import AdaBoostClassifier\n",
    "\n",
    "# import metrics for sanity check on model\n",
    "from sklearn.metrics import accuracy_score\n",
    "from sklearn.metrics import confusion_matrix, classification_report\n",
    "from sklearn.metrics import precision_score, recall_score, f1_score\n",
    "from sklearn.metrics import balanced_accuracy_score, roc_auc_score\n",
    "\n",
    "from IPython.display import display_html\n",
    "from itertools import chain,cycle\n",
    "\n",
    "import warnings\n",
    "warnings.filterwarnings(\"ignore\")\n",
    "\n",
    "print('Project libraries has been successfully been imported!')"
   ]
  },
  {
   "cell_type": "markdown",
   "id": "3b4372f2",
   "metadata": {},
   "source": [
    "<hr><i>Loading Dataset</i>"
   ]
  },
  {
   "cell_type": "code",
   "execution_count": 2,
   "id": "59d8ef12",
   "metadata": {},
   "outputs": [
    {
     "name": "stdout",
     "output_type": "stream",
     "text": [
      "Data has been read correctly!\n"
     ]
    }
   ],
   "source": [
    "# read the data\n",
    "try:\n",
    "    users_behavior = pd.read_csv('/datasets/users_behavior.csv')\n",
    "except:\n",
    "    users_behavior = pd.read_csv('users_behavior.csv')\n",
    "print('Data has been read correctly!')"
   ]
  },
  {
   "cell_type": "markdown",
   "id": "96054c27",
   "metadata": {},
   "source": [
    "<hr><i>Data Describe:<i>"
   ]
  },
  {
   "cell_type": "code",
   "execution_count": 3,
   "id": "5675ec83",
   "metadata": {},
   "outputs": [],
   "source": [
    "# Checking 0's\n",
    "def zero_check(df):\n",
    "    for i in df:\n",
    "        print(i,len(df[df[i]==0]))\n",
    "        \n",
    "# function to determine if columns in file have null values        \n",
    "def get_percent_of_na(df, num):\n",
    "    count = 0\n",
    "    df = df.copy()\n",
    "    s = (df.isna().sum() / df.shape[0])\n",
    "    for column, percent in zip(s.index, s.values):\n",
    "        num_of_nulls = df[column].isna().sum()\n",
    "        if num_of_nulls == 0:\n",
    "            continue\n",
    "        else:\n",
    "            count += 1\n",
    "        print('{} has {} nulls, which is {:.{}%} percent of Nulls'.format(column, num_of_nulls, percent, num))\n",
    "    if count != 0:\n",
    "        print(\"\\033[1m\" + 'There are {} columns with NA.'.format(count) + \"\\033[0m\")\n",
    "    else:\n",
    "        print()\n",
    "        print(\"\\033[1m\" + 'There are no columns with NA.' + \"\\033[0m\")       \n",
    "        \n",
    "# function to display general information about the dataset\n",
    "def general_info(df):\n",
    "    print(\"\\033[1m\" + \"\\033[0m\")\n",
    "    display(pd.concat([df.dtypes, df.count(),df.isna().sum(),df.isna().sum()/len(df)], keys=['type','count','na','na%'],\n",
    "                      axis=1))\n",
    "    print()\n",
    "    print(\"\\033[1m\" + 'Head:')  \n",
    "    display(df.head())\n",
    "    print()\n",
    "    print(\"\\033[1m\" + 'Tail:')\n",
    "    display(df.tail())\n",
    "    print()\n",
    "    print(\"\\033[1m\" + 'Info:')\n",
    "    print()\n",
    "    display(df.info())\n",
    "    print()\n",
    "    print(\"\\033[1m\" + 'Describe:')\n",
    "    print()\n",
    "    display(df.describe())\n",
    "    print()\n",
    "    print(\"\\033[1m\" + 'Describe include: all :')\n",
    "    print()\n",
    "    display(df.describe(include='all'))\n",
    "    print()\n",
    "    print(\"\\033[1m\" + 'nulls in the columns:')\n",
    "    print()\n",
    "    display(get_percent_of_na(df, 4))  # check this out\n",
    "    print()\n",
    "    print(\"\\033[1m\" + 'Zeros in the columns:') \n",
    "    print()\n",
    "    display(zero_check(df))\n",
    "    print()\n",
    "    print(\"\\033[1m\" + 'Shape:', df.shape)\n",
    "    print()\n",
    "    print()\n",
    "    print('Duplicated:',\"\\033[1m\" + 'We have {} duplicated rows\\n'.format(df.duplicated().sum()) + \"\\033[0m\")\n",
    "    print()\n",
    "    print(\"\\033[1m\" + 'Dtypes:')  \n",
    "    display(df.dtypes)\n",
    "    print()\n",
    "    print(\"\\033[1m\" + 'Users with plan for the current month (Ultra - 1, Smart - 0):') \n",
    "    display(df['is_ultra'].value_counts())\n",
    "    print()\n",
    "    users_behavior['is_ultra'].value_counts().plot(kind='bar',legend=True)\n",
    "    plt.legend(['0 - Smart, 1 - Ultra'],loc='best')\n",
    "    plt.xlabel('plan');\n",
    "    plt.ylabel('count');\n",
    "    plt.xticks(rotation = 0)\n",
    "    plt.title('Histogram of Users with the new plan Smart or Ultra');\n",
    "    plt.show();"
   ]
  },
  {
   "cell_type": "code",
   "execution_count": 4,
   "id": "96464ae9",
   "metadata": {},
   "outputs": [
    {
     "name": "stdout",
     "output_type": "stream",
     "text": [
      "information about Our \"users_behavior\" dataset:\n",
      "\u001b[1m\u001b[0m\n"
     ]
    },
    {
     "data": {
      "text/html": [
       "<div>\n",
       "<style scoped>\n",
       "    .dataframe tbody tr th:only-of-type {\n",
       "        vertical-align: middle;\n",
       "    }\n",
       "\n",
       "    .dataframe tbody tr th {\n",
       "        vertical-align: top;\n",
       "    }\n",
       "\n",
       "    .dataframe thead th {\n",
       "        text-align: right;\n",
       "    }\n",
       "</style>\n",
       "<table border=\"1\" class=\"dataframe\">\n",
       "  <thead>\n",
       "    <tr style=\"text-align: right;\">\n",
       "      <th></th>\n",
       "      <th>type</th>\n",
       "      <th>count</th>\n",
       "      <th>na</th>\n",
       "      <th>na%</th>\n",
       "    </tr>\n",
       "  </thead>\n",
       "  <tbody>\n",
       "    <tr>\n",
       "      <th>calls</th>\n",
       "      <td>float64</td>\n",
       "      <td>3214</td>\n",
       "      <td>0</td>\n",
       "      <td>0.0</td>\n",
       "    </tr>\n",
       "    <tr>\n",
       "      <th>minutes</th>\n",
       "      <td>float64</td>\n",
       "      <td>3214</td>\n",
       "      <td>0</td>\n",
       "      <td>0.0</td>\n",
       "    </tr>\n",
       "    <tr>\n",
       "      <th>messages</th>\n",
       "      <td>float64</td>\n",
       "      <td>3214</td>\n",
       "      <td>0</td>\n",
       "      <td>0.0</td>\n",
       "    </tr>\n",
       "    <tr>\n",
       "      <th>mb_used</th>\n",
       "      <td>float64</td>\n",
       "      <td>3214</td>\n",
       "      <td>0</td>\n",
       "      <td>0.0</td>\n",
       "    </tr>\n",
       "    <tr>\n",
       "      <th>is_ultra</th>\n",
       "      <td>int64</td>\n",
       "      <td>3214</td>\n",
       "      <td>0</td>\n",
       "      <td>0.0</td>\n",
       "    </tr>\n",
       "  </tbody>\n",
       "</table>\n",
       "</div>"
      ],
      "text/plain": [
       "             type  count  na  na%\n",
       "calls     float64   3214   0  0.0\n",
       "minutes   float64   3214   0  0.0\n",
       "messages  float64   3214   0  0.0\n",
       "mb_used   float64   3214   0  0.0\n",
       "is_ultra    int64   3214   0  0.0"
      ]
     },
     "metadata": {},
     "output_type": "display_data"
    },
    {
     "name": "stdout",
     "output_type": "stream",
     "text": [
      "\n",
      "\u001b[1mHead:\n"
     ]
    },
    {
     "data": {
      "text/html": [
       "<div>\n",
       "<style scoped>\n",
       "    .dataframe tbody tr th:only-of-type {\n",
       "        vertical-align: middle;\n",
       "    }\n",
       "\n",
       "    .dataframe tbody tr th {\n",
       "        vertical-align: top;\n",
       "    }\n",
       "\n",
       "    .dataframe thead th {\n",
       "        text-align: right;\n",
       "    }\n",
       "</style>\n",
       "<table border=\"1\" class=\"dataframe\">\n",
       "  <thead>\n",
       "    <tr style=\"text-align: right;\">\n",
       "      <th></th>\n",
       "      <th>calls</th>\n",
       "      <th>minutes</th>\n",
       "      <th>messages</th>\n",
       "      <th>mb_used</th>\n",
       "      <th>is_ultra</th>\n",
       "    </tr>\n",
       "  </thead>\n",
       "  <tbody>\n",
       "    <tr>\n",
       "      <th>0</th>\n",
       "      <td>40.0</td>\n",
       "      <td>311.90</td>\n",
       "      <td>83.0</td>\n",
       "      <td>19915.42</td>\n",
       "      <td>0</td>\n",
       "    </tr>\n",
       "    <tr>\n",
       "      <th>1</th>\n",
       "      <td>85.0</td>\n",
       "      <td>516.75</td>\n",
       "      <td>56.0</td>\n",
       "      <td>22696.96</td>\n",
       "      <td>0</td>\n",
       "    </tr>\n",
       "    <tr>\n",
       "      <th>2</th>\n",
       "      <td>77.0</td>\n",
       "      <td>467.66</td>\n",
       "      <td>86.0</td>\n",
       "      <td>21060.45</td>\n",
       "      <td>0</td>\n",
       "    </tr>\n",
       "    <tr>\n",
       "      <th>3</th>\n",
       "      <td>106.0</td>\n",
       "      <td>745.53</td>\n",
       "      <td>81.0</td>\n",
       "      <td>8437.39</td>\n",
       "      <td>1</td>\n",
       "    </tr>\n",
       "    <tr>\n",
       "      <th>4</th>\n",
       "      <td>66.0</td>\n",
       "      <td>418.74</td>\n",
       "      <td>1.0</td>\n",
       "      <td>14502.75</td>\n",
       "      <td>0</td>\n",
       "    </tr>\n",
       "  </tbody>\n",
       "</table>\n",
       "</div>"
      ],
      "text/plain": [
       "   calls  minutes  messages   mb_used  is_ultra\n",
       "0   40.0   311.90      83.0  19915.42         0\n",
       "1   85.0   516.75      56.0  22696.96         0\n",
       "2   77.0   467.66      86.0  21060.45         0\n",
       "3  106.0   745.53      81.0   8437.39         1\n",
       "4   66.0   418.74       1.0  14502.75         0"
      ]
     },
     "metadata": {},
     "output_type": "display_data"
    },
    {
     "name": "stdout",
     "output_type": "stream",
     "text": [
      "\n",
      "\u001b[1mTail:\n"
     ]
    },
    {
     "data": {
      "text/html": [
       "<div>\n",
       "<style scoped>\n",
       "    .dataframe tbody tr th:only-of-type {\n",
       "        vertical-align: middle;\n",
       "    }\n",
       "\n",
       "    .dataframe tbody tr th {\n",
       "        vertical-align: top;\n",
       "    }\n",
       "\n",
       "    .dataframe thead th {\n",
       "        text-align: right;\n",
       "    }\n",
       "</style>\n",
       "<table border=\"1\" class=\"dataframe\">\n",
       "  <thead>\n",
       "    <tr style=\"text-align: right;\">\n",
       "      <th></th>\n",
       "      <th>calls</th>\n",
       "      <th>minutes</th>\n",
       "      <th>messages</th>\n",
       "      <th>mb_used</th>\n",
       "      <th>is_ultra</th>\n",
       "    </tr>\n",
       "  </thead>\n",
       "  <tbody>\n",
       "    <tr>\n",
       "      <th>3209</th>\n",
       "      <td>122.0</td>\n",
       "      <td>910.98</td>\n",
       "      <td>20.0</td>\n",
       "      <td>35124.90</td>\n",
       "      <td>1</td>\n",
       "    </tr>\n",
       "    <tr>\n",
       "      <th>3210</th>\n",
       "      <td>25.0</td>\n",
       "      <td>190.36</td>\n",
       "      <td>0.0</td>\n",
       "      <td>3275.61</td>\n",
       "      <td>0</td>\n",
       "    </tr>\n",
       "    <tr>\n",
       "      <th>3211</th>\n",
       "      <td>97.0</td>\n",
       "      <td>634.44</td>\n",
       "      <td>70.0</td>\n",
       "      <td>13974.06</td>\n",
       "      <td>0</td>\n",
       "    </tr>\n",
       "    <tr>\n",
       "      <th>3212</th>\n",
       "      <td>64.0</td>\n",
       "      <td>462.32</td>\n",
       "      <td>90.0</td>\n",
       "      <td>31239.78</td>\n",
       "      <td>0</td>\n",
       "    </tr>\n",
       "    <tr>\n",
       "      <th>3213</th>\n",
       "      <td>80.0</td>\n",
       "      <td>566.09</td>\n",
       "      <td>6.0</td>\n",
       "      <td>29480.52</td>\n",
       "      <td>1</td>\n",
       "    </tr>\n",
       "  </tbody>\n",
       "</table>\n",
       "</div>"
      ],
      "text/plain": [
       "      calls  minutes  messages   mb_used  is_ultra\n",
       "3209  122.0   910.98      20.0  35124.90         1\n",
       "3210   25.0   190.36       0.0   3275.61         0\n",
       "3211   97.0   634.44      70.0  13974.06         0\n",
       "3212   64.0   462.32      90.0  31239.78         0\n",
       "3213   80.0   566.09       6.0  29480.52         1"
      ]
     },
     "metadata": {},
     "output_type": "display_data"
    },
    {
     "name": "stdout",
     "output_type": "stream",
     "text": [
      "\n",
      "\u001b[1mInfo:\n",
      "\n",
      "<class 'pandas.core.frame.DataFrame'>\n",
      "RangeIndex: 3214 entries, 0 to 3213\n",
      "Data columns (total 5 columns):\n",
      " #   Column    Non-Null Count  Dtype  \n",
      "---  ------    --------------  -----  \n",
      " 0   calls     3214 non-null   float64\n",
      " 1   minutes   3214 non-null   float64\n",
      " 2   messages  3214 non-null   float64\n",
      " 3   mb_used   3214 non-null   float64\n",
      " 4   is_ultra  3214 non-null   int64  \n",
      "dtypes: float64(4), int64(1)\n",
      "memory usage: 125.7 KB\n"
     ]
    },
    {
     "data": {
      "text/plain": [
       "None"
      ]
     },
     "metadata": {},
     "output_type": "display_data"
    },
    {
     "name": "stdout",
     "output_type": "stream",
     "text": [
      "\n",
      "\u001b[1mDescribe:\n",
      "\n"
     ]
    },
    {
     "data": {
      "text/html": [
       "<div>\n",
       "<style scoped>\n",
       "    .dataframe tbody tr th:only-of-type {\n",
       "        vertical-align: middle;\n",
       "    }\n",
       "\n",
       "    .dataframe tbody tr th {\n",
       "        vertical-align: top;\n",
       "    }\n",
       "\n",
       "    .dataframe thead th {\n",
       "        text-align: right;\n",
       "    }\n",
       "</style>\n",
       "<table border=\"1\" class=\"dataframe\">\n",
       "  <thead>\n",
       "    <tr style=\"text-align: right;\">\n",
       "      <th></th>\n",
       "      <th>calls</th>\n",
       "      <th>minutes</th>\n",
       "      <th>messages</th>\n",
       "      <th>mb_used</th>\n",
       "      <th>is_ultra</th>\n",
       "    </tr>\n",
       "  </thead>\n",
       "  <tbody>\n",
       "    <tr>\n",
       "      <th>count</th>\n",
       "      <td>3214.000000</td>\n",
       "      <td>3214.000000</td>\n",
       "      <td>3214.000000</td>\n",
       "      <td>3214.000000</td>\n",
       "      <td>3214.000000</td>\n",
       "    </tr>\n",
       "    <tr>\n",
       "      <th>mean</th>\n",
       "      <td>63.038892</td>\n",
       "      <td>438.208787</td>\n",
       "      <td>38.281269</td>\n",
       "      <td>17207.673836</td>\n",
       "      <td>0.306472</td>\n",
       "    </tr>\n",
       "    <tr>\n",
       "      <th>std</th>\n",
       "      <td>33.236368</td>\n",
       "      <td>234.569872</td>\n",
       "      <td>36.148326</td>\n",
       "      <td>7570.968246</td>\n",
       "      <td>0.461100</td>\n",
       "    </tr>\n",
       "    <tr>\n",
       "      <th>min</th>\n",
       "      <td>0.000000</td>\n",
       "      <td>0.000000</td>\n",
       "      <td>0.000000</td>\n",
       "      <td>0.000000</td>\n",
       "      <td>0.000000</td>\n",
       "    </tr>\n",
       "    <tr>\n",
       "      <th>25%</th>\n",
       "      <td>40.000000</td>\n",
       "      <td>274.575000</td>\n",
       "      <td>9.000000</td>\n",
       "      <td>12491.902500</td>\n",
       "      <td>0.000000</td>\n",
       "    </tr>\n",
       "    <tr>\n",
       "      <th>50%</th>\n",
       "      <td>62.000000</td>\n",
       "      <td>430.600000</td>\n",
       "      <td>30.000000</td>\n",
       "      <td>16943.235000</td>\n",
       "      <td>0.000000</td>\n",
       "    </tr>\n",
       "    <tr>\n",
       "      <th>75%</th>\n",
       "      <td>82.000000</td>\n",
       "      <td>571.927500</td>\n",
       "      <td>57.000000</td>\n",
       "      <td>21424.700000</td>\n",
       "      <td>1.000000</td>\n",
       "    </tr>\n",
       "    <tr>\n",
       "      <th>max</th>\n",
       "      <td>244.000000</td>\n",
       "      <td>1632.060000</td>\n",
       "      <td>224.000000</td>\n",
       "      <td>49745.730000</td>\n",
       "      <td>1.000000</td>\n",
       "    </tr>\n",
       "  </tbody>\n",
       "</table>\n",
       "</div>"
      ],
      "text/plain": [
       "             calls      minutes     messages       mb_used     is_ultra\n",
       "count  3214.000000  3214.000000  3214.000000   3214.000000  3214.000000\n",
       "mean     63.038892   438.208787    38.281269  17207.673836     0.306472\n",
       "std      33.236368   234.569872    36.148326   7570.968246     0.461100\n",
       "min       0.000000     0.000000     0.000000      0.000000     0.000000\n",
       "25%      40.000000   274.575000     9.000000  12491.902500     0.000000\n",
       "50%      62.000000   430.600000    30.000000  16943.235000     0.000000\n",
       "75%      82.000000   571.927500    57.000000  21424.700000     1.000000\n",
       "max     244.000000  1632.060000   224.000000  49745.730000     1.000000"
      ]
     },
     "metadata": {},
     "output_type": "display_data"
    },
    {
     "name": "stdout",
     "output_type": "stream",
     "text": [
      "\n",
      "\u001b[1mDescribe include: all :\n",
      "\n"
     ]
    },
    {
     "data": {
      "text/html": [
       "<div>\n",
       "<style scoped>\n",
       "    .dataframe tbody tr th:only-of-type {\n",
       "        vertical-align: middle;\n",
       "    }\n",
       "\n",
       "    .dataframe tbody tr th {\n",
       "        vertical-align: top;\n",
       "    }\n",
       "\n",
       "    .dataframe thead th {\n",
       "        text-align: right;\n",
       "    }\n",
       "</style>\n",
       "<table border=\"1\" class=\"dataframe\">\n",
       "  <thead>\n",
       "    <tr style=\"text-align: right;\">\n",
       "      <th></th>\n",
       "      <th>calls</th>\n",
       "      <th>minutes</th>\n",
       "      <th>messages</th>\n",
       "      <th>mb_used</th>\n",
       "      <th>is_ultra</th>\n",
       "    </tr>\n",
       "  </thead>\n",
       "  <tbody>\n",
       "    <tr>\n",
       "      <th>count</th>\n",
       "      <td>3214.000000</td>\n",
       "      <td>3214.000000</td>\n",
       "      <td>3214.000000</td>\n",
       "      <td>3214.000000</td>\n",
       "      <td>3214.000000</td>\n",
       "    </tr>\n",
       "    <tr>\n",
       "      <th>mean</th>\n",
       "      <td>63.038892</td>\n",
       "      <td>438.208787</td>\n",
       "      <td>38.281269</td>\n",
       "      <td>17207.673836</td>\n",
       "      <td>0.306472</td>\n",
       "    </tr>\n",
       "    <tr>\n",
       "      <th>std</th>\n",
       "      <td>33.236368</td>\n",
       "      <td>234.569872</td>\n",
       "      <td>36.148326</td>\n",
       "      <td>7570.968246</td>\n",
       "      <td>0.461100</td>\n",
       "    </tr>\n",
       "    <tr>\n",
       "      <th>min</th>\n",
       "      <td>0.000000</td>\n",
       "      <td>0.000000</td>\n",
       "      <td>0.000000</td>\n",
       "      <td>0.000000</td>\n",
       "      <td>0.000000</td>\n",
       "    </tr>\n",
       "    <tr>\n",
       "      <th>25%</th>\n",
       "      <td>40.000000</td>\n",
       "      <td>274.575000</td>\n",
       "      <td>9.000000</td>\n",
       "      <td>12491.902500</td>\n",
       "      <td>0.000000</td>\n",
       "    </tr>\n",
       "    <tr>\n",
       "      <th>50%</th>\n",
       "      <td>62.000000</td>\n",
       "      <td>430.600000</td>\n",
       "      <td>30.000000</td>\n",
       "      <td>16943.235000</td>\n",
       "      <td>0.000000</td>\n",
       "    </tr>\n",
       "    <tr>\n",
       "      <th>75%</th>\n",
       "      <td>82.000000</td>\n",
       "      <td>571.927500</td>\n",
       "      <td>57.000000</td>\n",
       "      <td>21424.700000</td>\n",
       "      <td>1.000000</td>\n",
       "    </tr>\n",
       "    <tr>\n",
       "      <th>max</th>\n",
       "      <td>244.000000</td>\n",
       "      <td>1632.060000</td>\n",
       "      <td>224.000000</td>\n",
       "      <td>49745.730000</td>\n",
       "      <td>1.000000</td>\n",
       "    </tr>\n",
       "  </tbody>\n",
       "</table>\n",
       "</div>"
      ],
      "text/plain": [
       "             calls      minutes     messages       mb_used     is_ultra\n",
       "count  3214.000000  3214.000000  3214.000000   3214.000000  3214.000000\n",
       "mean     63.038892   438.208787    38.281269  17207.673836     0.306472\n",
       "std      33.236368   234.569872    36.148326   7570.968246     0.461100\n",
       "min       0.000000     0.000000     0.000000      0.000000     0.000000\n",
       "25%      40.000000   274.575000     9.000000  12491.902500     0.000000\n",
       "50%      62.000000   430.600000    30.000000  16943.235000     0.000000\n",
       "75%      82.000000   571.927500    57.000000  21424.700000     1.000000\n",
       "max     244.000000  1632.060000   224.000000  49745.730000     1.000000"
      ]
     },
     "metadata": {},
     "output_type": "display_data"
    },
    {
     "name": "stdout",
     "output_type": "stream",
     "text": [
      "\n",
      "\u001b[1mnulls in the columns:\n",
      "\n",
      "\n",
      "\u001b[1mThere are no columns with NA.\u001b[0m\n"
     ]
    },
    {
     "data": {
      "text/plain": [
       "None"
      ]
     },
     "metadata": {},
     "output_type": "display_data"
    },
    {
     "name": "stdout",
     "output_type": "stream",
     "text": [
      "\n",
      "\u001b[1mZeros in the columns:\n",
      "\n",
      "calls 40\n",
      "minutes 40\n",
      "messages 497\n",
      "mb_used 11\n",
      "is_ultra 2229\n"
     ]
    },
    {
     "data": {
      "text/plain": [
       "None"
      ]
     },
     "metadata": {},
     "output_type": "display_data"
    },
    {
     "name": "stdout",
     "output_type": "stream",
     "text": [
      "\n",
      "\u001b[1mShape: (3214, 5)\n",
      "\n",
      "\n",
      "Duplicated: \u001b[1mWe have 0 duplicated rows\n",
      "\u001b[0m\n",
      "\n",
      "\u001b[1mDtypes:\n"
     ]
    },
    {
     "data": {
      "text/plain": [
       "calls       float64\n",
       "minutes     float64\n",
       "messages    float64\n",
       "mb_used     float64\n",
       "is_ultra      int64\n",
       "dtype: object"
      ]
     },
     "metadata": {},
     "output_type": "display_data"
    },
    {
     "name": "stdout",
     "output_type": "stream",
     "text": [
      "\n",
      "\u001b[1mUsers with plan for the current month (Ultra - 1, Smart - 0):\n"
     ]
    },
    {
     "data": {
      "text/plain": [
       "0    2229\n",
       "1     985\n",
       "Name: is_ultra, dtype: int64"
      ]
     },
     "metadata": {},
     "output_type": "display_data"
    },
    {
     "name": "stdout",
     "output_type": "stream",
     "text": [
      "\n"
     ]
    },
    {
     "data": {
      "image/png": "[encoded data removed]",
      "text/plain": [
       "<Figure size 432x288 with 1 Axes>"
      ]
     },
     "metadata": {
      "needs_background": "light"
     },
     "output_type": "display_data"
    }
   ],
   "source": [
    "#print our info data\n",
    "print('information about Our \"users_behavior\" dataset:')\n",
    "general_info(users_behavior)"
   ]
  },
  {
   "cell_type": "markdown",
   "id": "69faacd3",
   "metadata": {},
   "source": [
    "<hr><b><u>Data description:</u></b>\n",
    " \n",
    " Every observation in the dataset contains monthly behavior information about one user. The information given is as follows:\n",
    " \n",
    " - `сalls` — number of calls\n",
    " \n",
    " \n",
    " - `minutes` — total call duration in minutes\n",
    " \n",
    " \n",
    " - `messages` — number of text messages\n",
    " \n",
    " \n",
    " - `mb_used` — Internet traffic used in MB\n",
    " \n",
    " \n",
    " - `is_ultra` — plan for the current month (Ultra - 1, Smart - 0)"
   ]
  },
  {
   "cell_type": "markdown",
   "id": "ac1775f2",
   "metadata": {},
   "source": [
    "<hr><b style=\"font-size: 17px;\">Missing values / Dtypes / Duplicated :</b>\n",
    "\n",
    "No\n",
    "\n",
    "<hr>"
   ]
  },
  {
   "cell_type": "markdown",
   "id": "5fc4a401",
   "metadata": {},
   "source": [
    "<b><u>Conclusion:</u></b>\n",
    "\n",
    "As we expected of course there isn't any Missing values or Nan or duplicated rows in our dataset which is great , we also notice that almost triple of our users that already use the new plans prefer our 'smart' (2229) one plan than 'ultra' (985).\n",
    "\n",
    "so let's start by splitting our source into 3 (train,valid and test) , using the ratio 3:1:1 (60% , 20%, 20%)"
   ]
  },
  {
   "cell_type": "markdown",
   "id": "c7d42770",
   "metadata": {},
   "source": [
    "<hr><div id=\"Step II\"><h2>Step II - Split the source data into (training, validation and test set)</h2></div>"
   ]
  },
  {
   "cell_type": "markdown",
   "id": "c4d54bfb",
   "metadata": {},
   "source": [
    "<a href=\"#index\"><button style=\" background-color: #04AA6D; border: none; color: white; padding: 10px; text-align: center; text-decoration: none; display: inline-block; font-size: 12px; margin: 3px 2px; border-radius: 12px; font-weight: bold;\"> Return to index menu</button></a>"
   ]
  },
  {
   "cell_type": "markdown",
   "id": "1276e482",
   "metadata": {},
   "source": [
    "To split our the data into 3 (train, valid set and test set) we going to use `sklearn.model_selection.train_test_split` twice. First we split the data into train and test with 20% of split data being the test data. Then we split the 80% train data obtained from the first split into validation and train. "
   ]
  },
  {
   "cell_type": "code",
   "execution_count": 5,
   "id": "1f159d53",
   "metadata": {
    "scrolled": true
   },
   "outputs": [],
   "source": [
    "# split into train & test\n",
    "users_behavior_train, users_behavior_test = train_test_split(users_behavior, test_size=0.20, random_state=12345)\n",
    "\n",
    "# split train into valid & train 0.25 * 0.80 = 0.20 for valid size \n",
    "users_behavior_train, users_behavior_valid = train_test_split(users_behavior_train, test_size=0.25, random_state=12345) "
   ]
  },
  {
   "cell_type": "code",
   "execution_count": 6,
   "id": "467db17f",
   "metadata": {},
   "outputs": [
    {
     "name": "stdout",
     "output_type": "stream",
     "text": [
      "Train set now contains 1928 users, representing 60 % of our data source\n",
      "Valid set now contains 643 users, representing 20 % of our data source\n",
      "Test  set now contains 643  users, representing 20 % of our data source\n"
     ]
    }
   ],
   "source": [
    "# shape of the split set\n",
    "print('Train set now contains {}'.format(users_behavior_train.shape[0]) + ' users, representing 60 % of our data source') \n",
    "print('Valid set now contains {}'.format(users_behavior_valid.shape[0]) + ' users, representing 20 % of our data source')\n",
    "print('Test  set now contains {}'.format(users_behavior_test.shape[0]) + '  users, representing 20 % of our data source')"
   ]
  },
  {
   "cell_type": "markdown",
   "id": "4cc784d5",
   "metadata": {},
   "source": [
    "<hr><b><u>Intermediate conclusion:</u></b>\n",
    "\n",
    "We succeeded to split our data source into 3 (train, valid and test set) , split 60% , 20% , 20% when we using the test size in the first split of 0.2 and in the Second one 0.25\n",
    "\n",
    "- 60% into Train which contains 1928 users\n",
    "\n",
    "\n",
    "- 20% into Valid which contains 643 users\n",
    "\n",
    "\n",
    "- 20% into Test which contains 643 users"
   ]
  },
  {
   "cell_type": "markdown",
   "id": "a5b46f8f",
   "metadata": {},
   "source": [
    "<hr><div id=\"Step III\"><h2>Step III - Investigate the quality of different models by changing hyperparameters</h2><br>Briefly describe the findings of the study</div>"
   ]
  },
  {
   "cell_type": "markdown",
   "id": "b820bee4",
   "metadata": {},
   "source": [
    "<a href=\"#index\"><button style=\" background-color: #04AA6D; border: none; color: white; padding: 10px; text-align: center; text-decoration: none; display: inline-block; font-size: 12px; margin: 3px 2px; border-radius: 12px; font-weight: bold;\"> Return to index menu</button></a>"
   ]
  },
  {
   "cell_type": "markdown",
   "id": "f0c52c2d",
   "metadata": {},
   "source": [
    "<b><u>Our Model dev'</u></b>\n",
    "\n",
    "To proceed our mission to build and investigate the quality of different models. Since this classification task , we going to use:\n",
    "\n",
    "- Decision Tree Classifier\n",
    "\n",
    "- Logistic regression\n",
    "\n",
    "- Random forest\n",
    "\n",
    "We going to investigate them and see the result and then deciding which model is the one to use."
   ]
  },
  {
   "cell_type": "markdown",
   "id": "14fae289",
   "metadata": {},
   "source": [
    "<b><u>Hyperparameter Tuning:</u></b>"
   ]
  },
  {
   "cell_type": "markdown",
   "id": "3bd54114",
   "metadata": {},
   "source": [
    "<b><i>Decision Tree Classifier</i></b>\n",
    "\n",
    "For our 'Decision Tree Classifier', we going to iterate over different values and compare there quality of the model by tuning the `max_depth` of hyperparameter"
   ]
  },
  {
   "cell_type": "code",
   "execution_count": 7,
   "id": "3792c383",
   "metadata": {},
   "outputs": [],
   "source": [
    "# declare features and target \n",
    "features_train = users_behavior_train.drop(['is_ultra'], axis=1)\n",
    "target_train = users_behavior_train['is_ultra']\n",
    "features_valid = users_behavior_valid.drop(['is_ultra'], axis=1)\n",
    "target_valid = users_behavior_valid['is_ultra']\n",
    "features_test = users_behavior_test.drop(['is_ultra'], axis=1)\n",
    "target_test = users_behavior_test['is_ultra']"
   ]
  },
  {
   "cell_type": "code",
   "execution_count": 8,
   "id": "2b984ef7",
   "metadata": {},
   "outputs": [
    {
     "name": "stdout",
     "output_type": "stream",
     "text": [
      "max_depth = 1 : Valid accuracy : 0.7387247278382582 | Train accuracy: 0.758298755186722\n",
      "max_depth = 2 : Valid accuracy : 0.7573872472783826 | Train accuracy: 0.79201244813278\n",
      "max_depth = 3 : Valid accuracy : 0.7651632970451011 | Train accuracy: 0.8117219917012448\n",
      "max_depth = 4 : Valid accuracy : 0.7636080870917574 | Train accuracy: 0.8205394190871369\n",
      "max_depth = 5 : Valid accuracy : 0.7589424572317263 | Train accuracy: 0.8272821576763485\n",
      "max_depth = 6 : Valid accuracy : 0.7573872472783826 | Train accuracy: 0.8335062240663901\n",
      "max_depth = 7 : Valid accuracy : 0.7744945567651633 | Train accuracy: 0.8506224066390041\n",
      "max_depth = 8 : Valid accuracy : 0.7667185069984448 | Train accuracy: 0.8661825726141079\n",
      "max_depth = 9 : Valid accuracy : 0.7620528771384136 | Train accuracy: 0.875\n",
      "max_depth = 10 : Valid accuracy : 0.7713841368584758 | Train accuracy: 0.8910788381742739\n",
      "max_depth = 11 : Valid accuracy : 0.7589424572317263 | Train accuracy: 0.9024896265560166\n",
      "max_depth = 12 : Valid accuracy : 0.7558320373250389 | Train accuracy: 0.9154564315352697\n",
      "max_depth = 13 : Valid accuracy : 0.749611197511664 | Train accuracy: 0.9242738589211619\n",
      "max_depth = 14 : Valid accuracy : 0.7573872472783826 | Train accuracy: 0.9367219917012448\n",
      "max_depth = 15 : Valid accuracy : 0.7527216174183515 | Train accuracy: 0.9439834024896265\n",
      "max_depth = 16 : Valid accuracy : 0.749611197511664 | Train accuracy: 0.9512448132780082\n",
      "max_depth = 17 : Valid accuracy : 0.7387247278382582 | Train accuracy: 0.9574688796680498\n",
      "max_depth = 18 : Valid accuracy : 0.7418351477449455 | Train accuracy: 0.9642116182572614\n",
      "max_depth = 19 : Valid accuracy : 0.7356143079315708 | Train accuracy: 0.9704356846473029\n",
      "max_depth = 20 : Valid accuracy : 0.7293934681181959 | Train accuracy: 0.9761410788381742\n"
     ]
    },
    {
     "data": {
      "image/png": "[encoded data removed]",
      "text/plain": [
       "<Figure size 720x432 with 1 Axes>"
      ]
     },
     "metadata": {
      "needs_background": "light"
     },
     "output_type": "display_data"
    }
   ],
   "source": [
    "# fn decision tree classifier\n",
    "def decision_tree_classifier(X_train, y_train, X_valid, y_valid):\n",
    "    # define lists to collect scores\n",
    "    train_scores = []\n",
    "    valid_scores = []\n",
    "    # define the tree depth\n",
    "    tree_depth = [i for i in range(1, 21)]\n",
    "    # create a loop for max_depth from 1 to 21\n",
    "    for depth in tree_depth:\n",
    "        model = DecisionTreeClassifier(random_state=12345, max_depth = depth) # create an instance of a class\n",
    "        model.fit(X_train, y_train) # train the model\n",
    "        # make predictions on train set\n",
    "        train_predictions = model.predict(X_train)\n",
    "        train_predictions_acc = accuracy_score(y_train, train_predictions)\n",
    "        train_scores.append(train_predictions_acc)\n",
    "        # make predictions on validation set\n",
    "        predictions_valid = model.predict(X_valid)\n",
    "        predictions_valid_acc = accuracy_score(y_valid, predictions_valid)\n",
    "        valid_scores.append(predictions_valid_acc)\n",
    "        print(\"max_depth =\", depth, \": \", end='')\n",
    "        print(\"Valid accuracy :\",predictions_valid_acc,\"|\",\"Train accuracy:\",train_predictions_acc)\n",
    "    # plot of train and validation scores vs tree depth\n",
    "    plt.figure(figsize=(10,6))\n",
    "    plt.plot(tree_depth, train_scores, '-*', label='Train')\n",
    "    plt.plot(tree_depth, valid_scores, '-o', label='Validation')\n",
    "    plt.title('Plot of train and validation scores vs Max tree depth')\n",
    "    plt.xlabel('Max depth')\n",
    "    plt.ylabel('Accuracy')\n",
    "    plt.legend()\n",
    "    plt.show()\n",
    "    \n",
    "    # print the fn and the plot of decision tree classifier\n",
    "decision_tree_classifier(features_train, target_train, features_valid, target_valid)"
   ]
  },
  {
   "cell_type": "markdown",
   "id": "ab25a081",
   "metadata": {},
   "source": [
    "**' Decision Tree Classifier '** , can determines the right plan when we run a learning algorithm to train the model to make predictions. We created a loop to test our `max_depth` hyperparameter from 1 to 20 to see which depth gives us the best fit.\n",
    "We note that when we test lower `max_depth` generally do not overfit but poor accuracy (high bias, low variance) and high depth give us overfit and much better accuracy (low bias, high variance), we need a balance between bias and variance - bias variance tradeoff. \n",
    "\n",
    "Our plot chart visualize the model and show the accuracy scores on the train and validation vs `max_depth`, we see that our accuracy is keeps increasing until `max_depth` No.4 and after it starts to decline. At `max_depth` No.4 we have accuracy of 82% for the train set and 76.3% for the valid set. so we choose `max_depth` tree No.4 as right one before the model begins to overfit the train set.  "
   ]
  },
  {
   "cell_type": "markdown",
   "id": "da138592",
   "metadata": {},
   "source": [
    "<hr><br><b><i>Logistic Regression Model</i></b>\n",
    "\n",
    "For our 'Logistic Regression Model', we going to iterate over different values and compare there quality of the model by tuning the `max_depth` of hyperparameter"
   ]
  },
  {
   "cell_type": "code",
   "execution_count": 9,
   "id": "1efe00f4",
   "metadata": {},
   "outputs": [
    {
     "name": "stdout",
     "output_type": "stream",
     "text": [
      "Valid accuracy : 0.7293934681181959 | Train accuracy: 0.7422199170124482\n"
     ]
    }
   ],
   "source": [
    "# fn logistic regression model\n",
    "def logistic_regression(X_train, y_train, X_valid, y_valid):\n",
    "    model = LogisticRegression(random_state=12345, solver='liblinear')\n",
    "    model.fit(X_train, y_train) # train the model \n",
    "    model.score(X_train, y_train) # check the model's accuracy with score() method\n",
    "    train_predictions = model.predict(X_train) # make predictions on train set\n",
    "    predictions_valid = model.predict(X_valid) # make predictions on validation set\n",
    "    print(\"Valid accuracy :\",accuracy_score(y_valid, predictions_valid),\"|\",\"Train accuracy:\",\\\n",
    "          accuracy_score(y_train, train_predictions))\n",
    "    #  # print the fn logistic regression model\n",
    "logistic_regression(features_train, target_train, features_valid, target_valid)"
   ]
  },
  {
   "cell_type": "markdown",
   "id": "03cf4829",
   "metadata": {},
   "source": [
    "Although this model train is faster , the accuracy is lower and give us Valid of 73% and Train of 74.2% this lower than our target of 75% accuracy. \n",
    "\n",
    "This is because this model is not complex enough for underfitting occurs. We cannot use this model since both training and validation scores are low than what we looking for."
   ]
  },
  {
   "cell_type": "markdown",
   "id": "32fca41c",
   "metadata": {},
   "source": [
    "<hr><br><b><i>Random Forest Classifier</i></b>"
   ]
  },
  {
   "cell_type": "code",
   "execution_count": 10,
   "id": "4775defa",
   "metadata": {},
   "outputs": [
    {
     "name": "stdout",
     "output_type": "stream",
     "text": [
      "n_estimator = 1 : Valid accuracy :  0.702954898911353  |  Train accuracy: 0.9024896265560166\n",
      "n_estimator = 2 : Valid accuracy :  0.7573872472783826  |  Train accuracy: 0.9102697095435685\n",
      "n_estimator = 3 : Valid accuracy :  0.744945567651633  |  Train accuracy: 0.9590248962655602\n",
      "n_estimator = 4 : Valid accuracy :  0.7651632970451011  |  Train accuracy: 0.9481327800829875\n",
      "n_estimator = 5 : Valid accuracy :  0.7620528771384136  |  Train accuracy: 0.970954356846473\n",
      "n_estimator = 6 : Valid accuracy :  0.7698289269051322  |  Train accuracy: 0.9652489626556017\n",
      "n_estimator = 7 : Valid accuracy :  0.7713841368584758  |  Train accuracy: 0.979253112033195\n",
      "n_estimator = 8 : Valid accuracy :  0.7869362363919129  |  Train accuracy: 0.9719917012448133\n",
      "n_estimator = 9 : Valid accuracy :  0.7838258164852255  |  Train accuracy: 0.9818464730290456\n",
      "n_estimator = 10 : Valid accuracy :  0.7884914463452566  |  Train accuracy: 0.9797717842323651\n"
     ]
    },
    {
     "data": {
      "image/png": "[encoded data removed]",
      "text/plain": [
       "<Figure size 720x432 with 1 Axes>"
      ]
     },
     "metadata": {
      "needs_background": "light"
     },
     "output_type": "display_data"
    }
   ],
   "source": [
    "# create the random forest classifier model\n",
    "def random_forest_classifier(X_train, y_train, X_valid, y_valid):\n",
    "    # define lists to collect scores\n",
    "    train_scores = []\n",
    "    valid_scores = []\n",
    "    # define the n_estimator range\n",
    "    estimator_depth = [i for i in range(1, 11)]\n",
    "    # create a loop for n_estimator from 1 to 11\n",
    "    for est in estimator_depth:\n",
    "        model = RandomForestClassifier(random_state=12345, n_estimators=est)\n",
    "        model.fit(X_train, y_train) # train the model \n",
    "        # make predictions on train set\n",
    "        train_predictions = model.predict(X_train)\n",
    "        train_predictions_acc = accuracy_score(y_train, train_predictions)\n",
    "        train_scores.append(train_predictions_acc)\n",
    "        # make predictions on validation set\n",
    "        predictions_valid = model.predict(X_valid)\n",
    "        predictions_valid_acc = accuracy_score(y_valid, predictions_valid)\n",
    "        valid_scores.append(predictions_valid_acc)\n",
    "        print(\"n_estimator =\", est, \": \", end='')\n",
    "        print(\"Valid accuracy : \",predictions_valid_acc,\" | \",\"Train accuracy:\",train_predictions_acc)\n",
    "    # plot of train and validation scores vs n_estimator\n",
    "    plt.figure(figsize=(10,6))\n",
    "    plt.plot(estimator_depth, train_scores, '-*', label='Train')\n",
    "    plt.plot(estimator_depth, valid_scores, '-o', label='Validation')\n",
    "    plt.title('Plot of train and validation scores vs n_estimator')\n",
    "    plt.xlabel('Number of estimators')\n",
    "    plt.ylabel('Accuracy')\n",
    "    plt.legend()\n",
    "    plt.show()\n",
    "    # print the fn and the plot random forest classifier\n",
    "random_forest_classifier(features_train, target_train, features_valid, target_valid)"
   ]
  },
  {
   "cell_type": "markdown",
   "id": "2cb6ea96",
   "metadata": {},
   "source": [
    "For **' Random Forest Classifier '** , tuning the hyperparameters , we make the `random_state` parameter pseudorandomness static. We also set the number of trees in the forest using `n_estimators` hyperparameter. Using n_estimator value of 10, the random forest classifier given us an accuracy of 98% for the train set and 79% for the valid set."
   ]
  },
  {
   "cell_type": "markdown",
   "id": "adabcc0f",
   "metadata": {},
   "source": [
    "<hr><b><u>Intermediate conclusion:</u></b>\n",
    "\n",
    "-  **' Decision Tree Classifier '** model the highest accuracy is: No.4 with valid: 76.3% and Train: 82% \n",
    "\n",
    "\n",
    "-  **' Logistic Regression '** model we got combine of : valid: 73% and Train: 74.2% \n",
    "\n",
    "\n",
    "\n",
    "-  **' Random Forest Classifier '** model highest accuracy is: No.10 with valid: 79% and Train: 98% \n",
    "\n",
    "\n",
    "After checking our three models, we can see that there is a different in quality between them and the highest accuracy that we got is from the **Random forest** model which in No.10 show us **Train** of 98% and **Valid** of 79%, the bottom line is the **logistic regression** model with accuracy of 73% in the **Valid** and 74.2% in **Train** almost in our borderline of 75% but still lower than that.\n",
    "\n",
    "So for our Check the quality of the model using the test set we going to use the **Random forest**"
   ]
  },
  {
   "cell_type": "markdown",
   "id": "384ccb13",
   "metadata": {},
   "source": [
    "<hr><div id=\"Step IV\"><h2>Step IV - Check model quality</h2>"
   ]
  },
  {
   "cell_type": "markdown",
   "id": "ff5037a3",
   "metadata": {},
   "source": [
    "<a href=\"#index\"><button style=\" background-color: #04AA6D; border: none; color: white; padding: 10px; text-align: center; text-decoration: none; display: inline-block; font-size: 12px; margin: 3px 2px; border-radius: 12px; font-weight: bold;\"> Return to index menu</button></a>"
   ]
  },
  {
   "cell_type": "code",
   "execution_count": 11,
   "id": "557c71d0",
   "metadata": {},
   "outputs": [
    {
     "name": "stdout",
     "output_type": "stream",
     "text": [
      "Test set: 0.7869362363919129\n"
     ]
    }
   ],
   "source": [
    "# Test set with random forest model quality\n",
    "model = RandomForestClassifier(random_state=12345, n_estimators=10)\n",
    "model.fit(features_train, target_train) # train the model \n",
    "model.score(features_train, target_train) # check the model's accuracy with score() method\n",
    "test_predictions = model.predict(features_test) # make predictions on test set    \n",
    "print('Test set:', accuracy_score(target_test, test_predictions))"
   ]
  },
  {
   "cell_type": "markdown",
   "id": "b2e03c24",
   "metadata": {},
   "source": [
    "<hr><b><u>Intermediate conclusion:</u></b>\n",
    "\n",
    "As the result of our **\"Investigate the quality of different models by changing hyperparameters\"** , we decided to go with the **'Random forest'** model since it's the most accurate between the three that we tested to see the check model quality in the final test and the result is accuracy score of **79%**"
   ]
  },
  {
   "cell_type": "markdown",
   "id": "c502f477",
   "metadata": {},
   "source": [
    "<hr><div id=\"Step V\"><h2>Step V - Sanity check the model</h2>"
   ]
  },
  {
   "cell_type": "markdown",
   "id": "47fbadae",
   "metadata": {},
   "source": [
    "In our additional Tasks section , we want to get the idea of how accuracy the model with the valid set. So we can fit the model on train and prediction the valid set, then evaluate the effectiveness of our algorithm.\n",
    "\n",
    "To judge the effectiveness of the ML algorithm is to compute with precision, recall, and F1 score. We also going to look at other metrics like balance accuracy score, roc , confusion matrix and classification.   \n",
    "\n",
    "So, let's go..."
   ]
  },
  {
   "cell_type": "markdown",
   "id": "d2698f4b",
   "metadata": {},
   "source": [
    "<a href=\"#index\"><button style=\" background-color: #04AA6D; border: none; color: white; padding: 10px; text-align: center; text-decoration: none; display: inline-block; font-size: 12px; margin: 3px 2px; border-radius: 12px; font-weight: bold;\"> Return to index menu</button></a>"
   ]
  },
  {
   "cell_type": "markdown",
   "id": "41fb38fa",
   "metadata": {},
   "source": [
    "<i>Compere: Confusion matrix vs precision vs recall vs f1 vs accuracy score vs roc</i>"
   ]
  },
  {
   "cell_type": "code",
   "execution_count": 12,
   "id": "ee5f4575",
   "metadata": {},
   "outputs": [
    {
     "name": "stdout",
     "output_type": "stream",
     "text": [
      "\u001b[1mConfusion Matrix\n",
      "\n",
      "\u001b[0m [[401  42]\n",
      " [ 90 110]]\n",
      "\n",
      "\u001b[1mRecall:\n",
      " \u001b[0m 0.55\n",
      "\n",
      "\u001b[1mPrecision:\n",
      " \u001b[0m 0.724\n",
      "\n",
      "\u001b[1mF1-score:\n",
      " \u001b[0m 0.625\n",
      "\n",
      "\u001b[1mAccuracy Score:\n",
      " \u001b[0m 79.47%\n",
      "\n",
      "\u001b[1mBalanced Accuracy Score:\n",
      " \u001b[0m 72.76%\n",
      "\n",
      "\u001b[1mROC Score:\n",
      " \u001b[0m 72.76%\n",
      "\n",
      "\n",
      "\u001b[1mClassification report\n",
      "\n",
      "\u001b[0m               precision    recall  f1-score   support\n",
      "\n",
      "           0       0.82      0.91      0.86       443\n",
      "           1       0.72      0.55      0.63       200\n",
      "\n",
      "    accuracy                           0.79       643\n",
      "   macro avg       0.77      0.73      0.74       643\n",
      "weighted avg       0.79      0.79      0.79       643\n",
      "\n"
     ]
    }
   ],
   "source": [
    "# fu that compere: Confusion matrix vs precision vs recall vs f1 vs accuracy score vs roc\n",
    "\n",
    "def show_sanity_check(X_train, y_train, X_valid, y_valid):\n",
    "    model = RandomForestClassifier(random_state=12345)\n",
    "    model.fit(X_train, y_train)\n",
    "    predictions_valid = model.predict(X_valid) \n",
    "    print(\"\\033[1m\" + 'Confusion Matrix\\n\\n' + \"\\033[0m\",confusion_matrix(y_valid, predictions_valid))\n",
    "    print()\n",
    "    print(\"\\033[1m\" + 'Recall:\\n ' + \"\\033[0m\", recall_score(y_valid, predictions_valid))\n",
    "    print()\n",
    "    print(\"\\033[1m\" + 'Precision:\\n ' + \"\\033[0m\", '{:.3f}'.format(precision_score(y_valid, predictions_valid)))\n",
    "    print()\n",
    "    print(\"\\033[1m\" + 'F1-score:\\n ' + \"\\033[0m\", '{:.3f}'.format(f1_score(y_valid, predictions_valid)))\n",
    "    print()\n",
    "    print(\"\\033[1m\" + 'Accuracy Score:\\n ' + \"\\033[0m\", '{:.2%}'.format(accuracy_score(y_valid, predictions_valid)))\n",
    "    print()\n",
    "    print(\"\\033[1m\" + 'Balanced Accuracy Score:\\n ' + \"\\033[0m\", '{:.2%}'.format(balanced_accuracy_score(y_valid, \n",
    "                                                                                                       predictions_valid)))\n",
    "    print()\n",
    "    print(\"\\033[1m\" + 'ROC Score:\\n ' + \"\\033[0m\", '{:.2%}'.format(roc_auc_score(y_valid, predictions_valid)))\n",
    "    print()\n",
    "    print()\n",
    "    print(\"\\033[1m\" + 'Classification report\\n\\n' + \"\\033[0m\",classification_report(y_valid, predictions_valid))\n",
    " # display sanity check\n",
    "show_sanity_check(features_train, target_train, features_valid, target_valid)"
   ]
  },
  {
   "cell_type": "markdown",
   "id": "9e49dd4a",
   "metadata": {},
   "source": [
    "<hr><b><u>Intermediate conclusion:</u></b>\n",
    "\n",
    "\n",
    "Our **confusion matrix** help us to gain the insight how well the predictions hold up in the actual values and how correct they are.\n",
    "\n",
    "The **precision** of our model was 72.4% when it predicts the cell plan of our customers behavior , correct 72% of the of the time. the **Recall** measure how accurate our model and it identify is pattern in the dataset and we can see that isn't close to one. When we calc the **F1 score** we see 62.5%. When model accuracy was computed as 79%. knowing that recall , precision m **F1** and **roc** curve allows us to assess the **classification report** model and should make us think that skeptical about anyone touting only the accuracy of the model especially is imbalanced problems. As we see accuracy does not provide any useful assessment information on some crucial issues, but now we know how to employ better and smarter metrics calculation.      "
   ]
  },
  {
   "cell_type": "markdown",
   "id": "68383c38",
   "metadata": {},
   "source": [
    "<hr><div id=\"general_conclusion\"><h2>General conclusion</h2>"
   ]
  },
  {
   "cell_type": "markdown",
   "id": "35bd5426",
   "metadata": {},
   "source": [
    "<b><u>INTRODUCTION</u></b>\n",
    "\n",
    "The telecom company that we work in asked us this time to examine the registered customers in the system that didn't yet made the transition to our latest \"smart\" and \"ultra\" plans and are still using our legacy one.\n",
    "\n",
    "Since we already have a diagnosis we made in the past for those customers who have already switched to the new programs, all we have left to do is a general diagnosis of the existing data and move directly from it to building the forecasting model that will give us the answer with the highest accuracy of 0.75.\n",
    "\n",
    "Our plan:\n",
    "\n",
    "Dev' a model that will examine the behavior of our customers with legacy plan\n",
    "\n",
    "Build an ML model that will tell us what is the best plan to our legacy plan customers according to there behavior\n",
    "\n",
    "<hr>\n",
    "<b><u>I - Open the data file and study the general information:</u></b>\n",
    "<br>\n",
    "\n",
    "<b>Our dataset:</b>\n",
    "Every observation in the dataset contains monthly behavior information about one user. The information given is as follows:\n",
    " \n",
    " - `сalls` — number of calls\n",
    " \n",
    " \n",
    " - `minutes` — total call duration in minutes\n",
    " \n",
    " \n",
    " - `messages` — number of text messages\n",
    " \n",
    " \n",
    " - `mb_used` — Internet traffic used in MB\n",
    " \n",
    " \n",
    " - `is_ultra` — plan for the current month (Ultra - 1, Smart - 0)\n",
    "\n",
    "\n",
    "As we expected of course there isn't any Missing values or Nan or duplicated rows in our dataset which is great , we also notice that almost triple of our users that already use the new plans prefer our 'smart' (2229) one plan than 'ultra' (985).\n",
    "\n",
    "so let's start by splitting our source into 3 (train,valid and test) , using the ratio 3:1:1 (60% , 20%, 20%)\n",
    "\n",
    "<hr>\n",
    "<b><u>II - Split our source data</u></b>\n",
    "\n",
    "We succeeded to split our data source into 3 (train, valid and test set) , split 60% , 20% , 20% when we using the test size in the first split of 0.2 and in the Second one 0.25\n",
    "\n",
    "60% into Train which contains 1928 users\n",
    "20% into Valid which contains 643 users\n",
    "20% into Test which contains 643 users\n",
    "\n",
    "<hr>\n",
    "<b><u>III - Investigate different models quality</u></b>\n",
    "\n",
    "<b>Our Model dev'</b>\n",
    "\n",
    "To proceed our mission to build and investigate the quality of different models. Since this classification task , we going to use:\n",
    "\n",
    "- Decision Tree Classifier , can determines the right plan when we run a learning algorithm to train the model to make predictions. We created a loop to test our max_depth hyperparameter from 1 to 20 to see which depth gives us the best fit. We note that when we test lower max_depth generally do not overfit but poor accuracy (high bias, low variance) and high depth give us overfit and much better accuracy (low bias, high variance), we need a balance between bias and variance - bias variance tradeoff.\n",
    "\n",
    "- Logistic regression Although this model train is faster , the accuracy is lower and give us Valid of 73% and Train of 74.2% this lower than our target of 75% accuracy.\n",
    "\n",
    "- Random forest tuning the hyperparameters , we make the random_state parameter pseudorandomness static. We also set the number of trees in the forest using n_estimators hyperparameter. Using n_estimator value of 10, the random forest classifier given us an accuracy of 98% for the train set and 79% for the valid set.\n",
    "\n",
    "' Decision Tree Classifier ' model the highest accuracy is: No.4 with valid: 76.3% and Train: 82%\n",
    "' Logistic Regression ' model we got combine of : valid: 73% and Train: 74.2%\n",
    "' Random Forest Classifier ' model highest accuracy is: No.10 with valid: 79% and Train: 98%\n",
    "\n",
    "After checking our three models, we can see that there is a different in quality between them and the highest accuracy that we got is from the Random forest model which in No.10 show us Train of 98% and Valid of 79%, the bottom line is the logistic regression model with accuracy of 73% in the Valid and 74.2% in Train almost in our borderline of 75% but still lower than that.\n",
    "\n",
    "<hr>\n",
    "<b><u>Step IV - Check model quality</u></b>\n",
    "\n",
    "As the result of our **\"Investigate the quality of different models by changing hyperparameters\"** , we decided to go with the **'Random forest'** model since it's the most accurate between the three that we tested to see the check model quality in the final test and the result is accuracy score of **79%**\n",
    "\n",
    "<hr>\n",
    "<b><u>Step V - Sanity check the model</u></b>\n",
    "\n",
    "In our additional Tasks section , we want to get the idea of how accuracy the model with the valid set. So we can fit the model on train and prediction the valid set, then evaluate the effectiveness of our algorithm.\n",
    "\n",
    "To judge the effectiveness of the ML algorithm is to compute with precision, recall, and F1 score. We also going to look at other metrics like balance accuracy score, roc , confusion matrix and classification.\n",
    "\n",
    "Our confusion matrix help us to gain the insight how well the predictions hold up in the actual values and how correct they are.\n",
    "\n",
    "The precision of our model was 72.4% when it predicts the cell plan of our customers behavior , correct 72% of the of the time. the Recall measure how accurate our model and it identify is pattern in the dataset and we can see that isn't close to one. When we calc the F1 score we see 62.5%. When model accuracy was computed as 79%. knowing that recall , precision m F1 and roc curve allows us to assess the classification report model and should make us think that skeptical about anyone touting only the accuracy of the model especially is imbalanced problems. As we see accuracy does not provide any useful assessment information on some crucial issues, but now we know how to employ better and smarter metrics calculation."
   ]
  },
  {
   "cell_type": "markdown",
   "id": "3bd01946",
   "metadata": {},
   "source": [
    "<h2>Overall conclusion</h2>\n",
    "\n",
    "In Project X we first learned that our customers who make use of the more advanced programs prefer the \"smart\" program over the \"ultra\" in fact almost 3 times them choose it. We further learned that creating a test model can be too much and too inaccurate for our needs and that we need to choose the one that will give us the highest percentages of accuracy while balancing different data. This is why we ended up choosing the Random Forest No. 10 in our test it presented an impressive figure of 98% train accuracy and 79%  valid accuracy with more impressive accuracy ratios than that of the other two models.\n",
    "\n",
    "We also add sanity check the model, we computed the precision, F1-score, precision, recall score, balanced accuracy score, ROC score, confusion matrix, and classification report.\n",
    "\n",
    "At the end we achieve our objectives of developing a model with the highest possible accuracy , we pass the 75% threshold for accuracy as the business task ask. Now we have a model that will pick the right plan for our customers 79% of the time."
   ]
  }
 ],
 "metadata": {
  "ExecuteTimeLog": [
   {
    "duration": 2064,
    "start_time": "2022-05-15T12:08:19.805Z"
   },
   {
    "duration": 25,
    "start_time": "2022-05-15T12:08:21.872Z"
   },
   {
    "duration": 16,
    "start_time": "2022-05-15T12:08:21.899Z"
   },
   {
    "duration": 413,
    "start_time": "2022-05-15T12:08:21.918Z"
   },
   {
    "duration": 8,
    "start_time": "2022-05-15T12:08:22.333Z"
   },
   {
    "duration": 24,
    "start_time": "2022-05-15T12:08:22.343Z"
   },
   {
    "duration": 35,
    "start_time": "2022-05-15T12:08:22.369Z"
   },
   {
    "duration": 567,
    "start_time": "2022-05-15T12:08:22.406Z"
   },
   {
    "duration": 24,
    "start_time": "2022-05-15T12:08:22.975Z"
   },
   {
    "duration": 670,
    "start_time": "2022-05-15T12:08:23.002Z"
   },
   {
    "duration": 83,
    "start_time": "2022-05-15T12:08:23.673Z"
   },
   {
    "duration": 598,
    "start_time": "2022-05-15T12:08:23.758Z"
   },
   {
    "duration": 1684,
    "start_time": "2022-05-15T12:13:21.958Z"
   },
   {
    "duration": 16,
    "start_time": "2022-05-15T12:13:23.645Z"
   },
   {
    "duration": 15,
    "start_time": "2022-05-15T12:13:23.662Z"
   },
   {
    "duration": 390,
    "start_time": "2022-05-15T12:13:23.680Z"
   },
   {
    "duration": 11,
    "start_time": "2022-05-15T12:13:24.072Z"
   },
   {
    "duration": 10,
    "start_time": "2022-05-15T12:13:24.085Z"
   },
   {
    "duration": 9,
    "start_time": "2022-05-15T12:13:24.097Z"
   },
   {
    "duration": 587,
    "start_time": "2022-05-15T12:13:24.108Z"
   },
   {
    "duration": 29,
    "start_time": "2022-05-15T12:13:24.698Z"
   },
   {
    "duration": 643,
    "start_time": "2022-05-15T12:13:24.756Z"
   },
   {
    "duration": 84,
    "start_time": "2022-05-15T12:13:25.402Z"
   },
   {
    "duration": 537,
    "start_time": "2022-05-15T12:13:25.489Z"
   }
  ],
  "hide_input": false,
  "kernelspec": {
   "display_name": "Python 3 (ipykernel)",
   "language": "python",
   "name": "python3"
  },
  "language_info": {
   "codemirror_mode": {
    "name": "ipython",
    "version": 3
   },
   "file_extension": ".py",
   "mimetype": "text/x-python",
   "name": "python",
   "nbconvert_exporter": "python",
   "pygments_lexer": "ipython3",
   "version": "3.10.4"
  },
  "toc": {
   "base_numbering": 1,
   "nav_menu": {},
   "number_sections": false,
   "sideBar": true,
   "skip_h1_title": false,
   "title_cell": "Table of Contents",
   "title_sidebar": "Contents",
   "toc_cell": false,
   "toc_position": {},
   "toc_section_display": true,
   "toc_window_display": false
  },
  "varInspector": {
   "cols": {
    "lenName": 16,
    "lenType": 16,
    "lenVar": 40
   },
   "kernels_config": {
    "python": {
     "delete_cmd_postfix": "",
     "delete_cmd_prefix": "del ",
     "library": "var_list.py",
     "varRefreshCmd": "print(var_dic_list())"
    },
    "r": {
     "delete_cmd_postfix": ") ",
     "delete_cmd_prefix": "rm(",
     "library": "var_list.r",
     "varRefreshCmd": "cat(var_dic_list()) "
    }
   },
   "types_to_exclude": [
    "module",
    "function",
    "builtin_function_or_method",
    "instance",
    "_Feature"
   ],
   "window_display": false
  }
 },
 "nbformat": 4,
 "nbformat_minor": 5
}
